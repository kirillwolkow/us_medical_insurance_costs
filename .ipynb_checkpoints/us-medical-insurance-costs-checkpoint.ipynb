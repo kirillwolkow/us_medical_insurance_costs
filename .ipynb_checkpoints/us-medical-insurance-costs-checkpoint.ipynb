{
 "cells": [
  {
   "cell_type": "markdown",
   "metadata": {},
   "source": [
    "# U.S. Medical Insurance Costs"
   ]
  },
  {
   "cell_type": "markdown",
   "metadata": {},
   "source": [
    "## Importing Data / Libraries"
   ]
  },
  {
   "cell_type": "code",
   "execution_count": 6,
   "metadata": {},
   "outputs": [
    {
     "name": "stdout",
     "output_type": "stream",
     "text": [
      "   age     sex     bmi  children smoker     region      charges\n",
      "0   19  female  27.900         0    yes  southwest  16884.92400\n",
      "1   18    male  33.770         1     no  southeast   1725.55230\n",
      "2   28    male  33.000         3     no  southeast   4449.46200\n",
      "3   33    male  22.705         0     no  northwest  21984.47061\n",
      "4   32    male  28.880         0     no  northwest   3866.85520\n",
      "5   31  female  25.740         0     no  southeast   3756.62160\n",
      "6   46  female  33.440         1     no  southeast   8240.58960\n",
      "7   37  female  27.740         3     no  northwest   7281.50560\n",
      "8   37    male  29.830         2     no  northeast   6406.41070\n",
      "9   60  female  25.840         0     no  northwest  28923.13692\n"
     ]
    }
   ],
   "source": [
    "import csv\n",
    "import numpy as np\n",
    "import pandas as pd\n",
    "import matplotlib.pyplot as plt\n",
    "\n",
    "data = pd.read_csv(\"insurance.csv\")\n",
    "\n",
    "print(data.head(10))"
   ]
  },
  {
   "cell_type": "markdown",
   "metadata": {},
   "source": [
    "## Variables"
   ]
  },
  {
   "cell_type": "code",
   "execution_count": 7,
   "metadata": {},
   "outputs": [],
   "source": [
    "age = data['age']\n",
    "sex = data['sex']\n",
    "bmi = data['bmi']\n",
    "children = data['children']\n",
    "smoker = data['smoker']\n",
    "region = data['region']\n",
    "charges = data['charges']"
   ]
  },
  {
   "cell_type": "markdown",
   "metadata": {},
   "source": [
    "## Exploratory Data Analysis"
   ]
  },
  {
   "cell_type": "markdown",
   "metadata": {},
   "source": [
    "### Average Age"
   ]
  },
  {
   "cell_type": "code",
   "execution_count": 43,
   "metadata": {},
   "outputs": [
    {
     "name": "stdout",
     "output_type": "stream",
     "text": [
      "Average Patient Age: 39.21 years\n"
     ]
    }
   ],
   "source": [
    "def average_age(ages):\n",
    "    total_age = len(age)\n",
    "    total_ages = sum(age)\n",
    "    return (\"Average Patient Age: \" + str(round(total_ages/total_age, 2)) + \" years\")\n",
    "\n",
    "avg_age = average_age(age)\n",
    "print(avg_age)"
   ]
  },
  {
   "cell_type": "markdown",
   "metadata": {},
   "source": [
    "### Region Count"
   ]
  },
  {
   "cell_type": "code",
   "execution_count": 50,
   "metadata": {},
   "outputs": [
    {
     "name": "stdout",
     "output_type": "stream",
     "text": [
      "(325, 324, 0, 0)\n"
     ]
    }
   ],
   "source": [
    "# There are four regions: southwest, southeast, northwest and northeast. Let's count all regions.\n",
    "def region_count(regions):\n",
    "    northwest = 0\n",
    "    northeast = 0\n",
    "    southwest = 0\n",
    "    southeast = 0\n",
    "    for region in regions:\n",
    "        if region == 'northwest':\n",
    "            northwest += 1\n",
    "        elif region == 'northeast':\n",
    "            northeast += 1\n",
    "        elif southwest == 'southwest':\n",
    "            southwest += 1\n",
    "        elif southeast == 'southeast':\n",
    "            southeast += 1\n",
    "        else:\n",
    "            pass\n",
    "    return northwest, northeast, southwest, southeast\n",
    "\n",
    "region_counter = region_count(region)\n",
    "print(region_counter)"
   ]
  },
  {
   "cell_type": "code",
   "execution_count": 48,
   "metadata": {},
   "outputs": [
    {
     "name": "stdout",
     "output_type": "stream",
     "text": [
      "0     southwest\n",
      "1     southeast\n",
      "2     southeast\n",
      "3     northwest\n",
      "4     northwest\n",
      "5     southeast\n",
      "6     southeast\n",
      "7     northwest\n",
      "8     northeast\n",
      "9     northwest\n",
      "10    northeast\n",
      "11    southeast\n",
      "12    southwest\n",
      "13    southeast\n",
      "14    southeast\n",
      "15    southwest\n",
      "16    northeast\n",
      "17    northeast\n",
      "18    southwest\n",
      "19    southwest\n",
      "20    northeast\n",
      "21    southwest\n",
      "22    southeast\n",
      "23    northeast\n",
      "24    northwest\n",
      "25    southeast\n",
      "26    northeast\n",
      "27    northwest\n",
      "28    northwest\n",
      "29    southwest\n",
      "30    southwest\n",
      "31    northeast\n",
      "32    southwest\n",
      "33    northwest\n",
      "34    southwest\n",
      "35    northwest\n",
      "36    northwest\n",
      "37    southwest\n",
      "38    northeast\n",
      "39    southwest\n",
      "40    northeast\n",
      "41    southeast\n",
      "42    southeast\n",
      "43    southeast\n",
      "44    northeast\n",
      "45    southwest\n",
      "46    northeast\n",
      "47    northwest\n",
      "48    southeast\n",
      "49    southeast\n",
      "Name: region, dtype: object\n"
     ]
    }
   ],
   "source": []
  },
  {
   "cell_type": "code",
   "execution_count": null,
   "metadata": {},
   "outputs": [],
   "source": []
  }
 ],
 "metadata": {
  "kernelspec": {
   "display_name": "Python 3",
   "language": "python",
   "name": "python3"
  },
  "language_info": {
   "codemirror_mode": {
    "name": "ipython",
    "version": 3
   },
   "file_extension": ".py",
   "mimetype": "text/x-python",
   "name": "python",
   "nbconvert_exporter": "python",
   "pygments_lexer": "ipython3",
   "version": "3.8.5"
  }
 },
 "nbformat": 4,
 "nbformat_minor": 4
}
