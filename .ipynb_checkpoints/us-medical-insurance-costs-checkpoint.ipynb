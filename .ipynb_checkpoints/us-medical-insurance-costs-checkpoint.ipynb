{
 "cells": [
  {
   "cell_type": "markdown",
   "metadata": {},
   "source": [
    "# U.S. Medical Insurance Costs"
   ]
  },
  {
   "cell_type": "markdown",
   "metadata": {},
   "source": [
    "## Importing Data / Libraries"
   ]
  },
  {
   "cell_type": "code",
   "execution_count": 49,
   "metadata": {},
   "outputs": [
    {
     "name": "stdout",
     "output_type": "stream",
     "text": [
      "   age     sex     bmi  children smoker     region      charges\n",
      "0   19  female  27.900         0    yes  southwest  16884.92400\n",
      "1   18    male  33.770         1     no  southeast   1725.55230\n",
      "2   28    male  33.000         3     no  southeast   4449.46200\n",
      "3   33    male  22.705         0     no  northwest  21984.47061\n",
      "4   32    male  28.880         0     no  northwest   3866.85520\n"
     ]
    }
   ],
   "source": [
    "import csv\n",
    "import numpy as np\n",
    "import pandas as pd\n",
    "import matplotlib.pyplot as plt\n",
    "\n",
    "data = pd.read_csv(\"insurance.csv\")\n",
    "\n",
    "print(data.head())"
   ]
  },
  {
   "cell_type": "markdown",
   "metadata": {},
   "source": [
    "## Variables"
   ]
  },
  {
   "cell_type": "code",
   "execution_count": 25,
   "metadata": {},
   "outputs": [],
   "source": [
    "age = data['age']\n",
    "sex = data['sex']\n",
    "bmi = data['bmi']\n",
    "children = data['children']\n",
    "smoker = data['smoker']\n",
    "region = data['region']\n",
    "charges = data['charges']"
   ]
  },
  {
   "cell_type": "markdown",
   "metadata": {},
   "source": [
    "## Exploratory Data Analysis"
   ]
  },
  {
   "cell_type": "markdown",
   "metadata": {},
   "source": [
    "### Average Age"
   ]
  },
  {
   "cell_type": "code",
   "execution_count": 60,
   "metadata": {},
   "outputs": [
    {
     "name": "stdout",
     "output_type": "stream",
     "text": [
      "Average Patient Age: 39.21 years\n"
     ]
    }
   ],
   "source": [
    "# Calculating the overall average age\n",
    "def average_age(ages):\n",
    "    total_age = len(age)\n",
    "    total_ages = sum(age)\n",
    "    return (\"Average Patient Age: \" + str(round(total_ages/total_age, 2)) + \" years\")\n",
    "\n",
    "avg_age = average_age(age)\n",
    "print(avg_age)"
   ]
  },
  {
   "cell_type": "code",
   "execution_count": 77,
   "metadata": {},
   "outputs": [
    {
     "name": "stdout",
     "output_type": "stream",
     "text": [
      "    age     sex    bmi  children smoker     region     charges\n",
      "1    18    male  33.77         1     no  southeast   1725.5523\n",
      "6    46  female  33.44         1     no  southeast   8240.5896\n",
      "15   19    male  24.60         1     no  southwest   1837.2370\n",
      "16   52  female  30.78         1     no  northeast  10797.3362\n",
      "21   30  female  32.40         1     no  southwest   4149.7360\n"
     ]
    },
    {
     "data": {
      "text/plain": [
       "'Average Patient Age with one child: 39.45 years'"
      ]
     },
     "execution_count": 77,
     "metadata": {},
     "output_type": "execute_result"
    }
   ],
   "source": [
    "# Calculting the average age of a person with 1 child\n",
    "age_child_df = data[['age', 'children']]\n",
    "#print(age_child_df.head(10))\n",
    "\n",
    "one_child = data[data['children'] == 1]\n",
    "print(one_child.head())\n",
    "\n",
    "one_child_age = one_child['age']\n",
    "type(one_child_age)\n",
    "one_child_age\n",
    "\n",
    "counter = one_child_age.sum()\n",
    "def avg_age_one_child(data):\n",
    "    counter = data.sum()\n",
    "    length = len(data)\n",
    "    return (\"Average Patient Age with one child: \" + str(round(counter/length, 2)) + \" years\")\n",
    "\n",
    "average_age_one_child = avg_age_one_child(one_child_age)\n",
    "average_age_one_child\n"
   ]
  },
  {
   "cell_type": "markdown",
   "metadata": {},
   "source": [
    "### Region Count"
   ]
  },
  {
   "cell_type": "code",
   "execution_count": 6,
   "metadata": {},
   "outputs": [
    {
     "name": "stdout",
     "output_type": "stream",
     "text": [
      "['southwest', 'southeast', 'northwest', 'northeast']\n"
     ]
    }
   ],
   "source": [
    "# See how many regions are in this data \n",
    "def unique_regions(regions):\n",
    "    unique_regions = []\n",
    "    for region in regions:\n",
    "        if region not in unique_regions:\n",
    "            unique_regions.append(region)\n",
    "    return unique_regions\n",
    "\n",
    "region_counter = unique_regions(region)\n",
    "print(region_counter)"
   ]
  },
  {
   "cell_type": "code",
   "execution_count": 21,
   "metadata": {},
   "outputs": [
    {
     "data": {
      "text/plain": [
       "northeast    324\n",
       "southeast    364\n",
       "southwest    325\n",
       "northwest    325\n",
       "Name: region, dtype: int64"
      ]
     },
     "execution_count": 21,
     "metadata": {},
     "output_type": "execute_result"
    }
   ],
   "source": [
    "# Let's count which region has the most data\n",
    "data['region'].value_counts(sort=False)"
   ]
  },
  {
   "cell_type": "code",
   "execution_count": null,
   "metadata": {},
   "outputs": [],
   "source": [
    "print()"
   ]
  }
 ],
 "metadata": {
  "kernelspec": {
   "display_name": "Python 3",
   "language": "python",
   "name": "python3"
  },
  "language_info": {
   "codemirror_mode": {
    "name": "ipython",
    "version": 3
   },
   "file_extension": ".py",
   "mimetype": "text/x-python",
   "name": "python",
   "nbconvert_exporter": "python",
   "pygments_lexer": "ipython3",
   "version": "3.8.5"
  }
 },
 "nbformat": 4,
 "nbformat_minor": 4
}
