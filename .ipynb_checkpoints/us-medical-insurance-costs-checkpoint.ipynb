{
 "cells": [
  {
   "cell_type": "markdown",
   "metadata": {},
   "source": [
    "# U.S. Medical Insurance Costs"
   ]
  },
  {
   "cell_type": "markdown",
   "metadata": {},
   "source": [
    "## Importing Data / Libraries"
   ]
  },
  {
   "cell_type": "code",
   "execution_count": 1,
   "metadata": {},
   "outputs": [
    {
     "name": "stdout",
     "output_type": "stream",
     "text": [
      "   age     sex     bmi  children smoker     region      charges\n",
      "0   19  female  27.900         0    yes  southwest  16884.92400\n",
      "1   18    male  33.770         1     no  southeast   1725.55230\n",
      "2   28    male  33.000         3     no  southeast   4449.46200\n",
      "3   33    male  22.705         0     no  northwest  21984.47061\n",
      "4   32    male  28.880         0     no  northwest   3866.85520\n"
     ]
    }
   ],
   "source": [
    "import csv\n",
    "import numpy as np\n",
    "import pandas as pd\n",
    "import matplotlib.pyplot as plt\n",
    "\n",
    "data = pd.read_csv(\"insurance.csv\")\n",
    "\n",
    "print(data.head())"
   ]
  },
  {
   "cell_type": "markdown",
   "metadata": {},
   "source": [
    "## Variables"
   ]
  },
  {
   "cell_type": "code",
   "execution_count": 2,
   "metadata": {},
   "outputs": [],
   "source": [
    "age = data['age']\n",
    "sex = data['sex']\n",
    "bmi = data['bmi']\n",
    "children = data['children']\n",
    "smoker = data['smoker']\n",
    "region = data['region']\n",
    "charges = data['charges']"
   ]
  },
  {
   "cell_type": "markdown",
   "metadata": {},
   "source": [
    "## Exploratory Data Analysis"
   ]
  },
  {
   "cell_type": "markdown",
   "metadata": {},
   "source": [
    "### Average Age"
   ]
  },
  {
   "cell_type": "code",
   "execution_count": 3,
   "metadata": {
    "scrolled": true
   },
   "outputs": [
    {
     "name": "stdout",
     "output_type": "stream",
     "text": [
      "Average Patient Age: 39.21 years\n"
     ]
    }
   ],
   "source": [
    "# Calculating the overall average age\n",
    "def average_age(ages):\n",
    "    total_age = len(age)\n",
    "    total_ages = sum(age)\n",
    "    return (\"Average Patient Age: \" + str(round(total_ages/total_age, 2)) + \" years\")\n",
    "\n",
    "avg_age = average_age(age)\n",
    "print(avg_age)"
   ]
  },
  {
   "cell_type": "markdown",
   "metadata": {},
   "source": [
    "### Average Age For A Person With At Least 1 Child"
   ]
  },
  {
   "cell_type": "code",
   "execution_count": 4,
   "metadata": {},
   "outputs": [
    {
     "name": "stdout",
     "output_type": "stream",
     "text": [
      "   age     sex    bmi  children smoker     region    charges\n",
      "1   18    male  33.77         1     no  southeast  1725.5523\n",
      "2   28    male  33.00         3     no  southeast  4449.4620\n",
      "6   46  female  33.44         1     no  southeast  8240.5896\n",
      "7   37  female  27.74         3     no  northwest  7281.5056\n",
      "8   37    male  29.83         2     no  northeast  6406.4107\n"
     ]
    },
    {
     "data": {
      "text/plain": [
       "'Average Patient Age with one child: 39.78 years'"
      ]
     },
     "execution_count": 4,
     "metadata": {},
     "output_type": "execute_result"
    }
   ],
   "source": [
    "one_child = data[data['children'] >= 1]\n",
    "print(one_child.head())\n",
    "\n",
    "one_child_age = one_child['age']\n",
    "type(one_child_age)\n",
    "one_child_age\n",
    "\n",
    "counter = one_child_age.sum()\n",
    "def avg_age_one_child(data):\n",
    "    counter = data.sum()\n",
    "    length = len(data)\n",
    "    return (\"Average Patient Age with one child: \" + str(round(counter/length, 2)) + \" years\")\n",
    "\n",
    "average_age_one_child = avg_age_one_child(one_child_age)\n",
    "average_age_one_child"
   ]
  },
  {
   "cell_type": "markdown",
   "metadata": {},
   "source": [
    "### Region Count"
   ]
  },
  {
   "cell_type": "code",
   "execution_count": 5,
   "metadata": {},
   "outputs": [
    {
     "name": "stdout",
     "output_type": "stream",
     "text": [
      "['southwest', 'southeast', 'northwest', 'northeast']\n"
     ]
    }
   ],
   "source": [
    "# See how many regions are in this data \n",
    "def unique_regions(regions):\n",
    "    unique_regions = []\n",
    "    for region in regions:\n",
    "        if region not in unique_regions:\n",
    "            unique_regions.append(region)\n",
    "    return unique_regions\n",
    "\n",
    "region_counter = unique_regions(region)\n",
    "print(region_counter)"
   ]
  },
  {
   "cell_type": "code",
   "execution_count": 6,
   "metadata": {},
   "outputs": [
    {
     "data": {
      "text/plain": [
       "southeast    364\n",
       "southwest    325\n",
       "northwest    325\n",
       "northeast    324\n",
       "Name: region, dtype: int64"
      ]
     },
     "execution_count": 6,
     "metadata": {},
     "output_type": "execute_result"
    }
   ],
   "source": [
    "# Let's count which region has the most data\n",
    "data['region'].value_counts(sort=False)"
   ]
  },
  {
   "cell_type": "markdown",
   "metadata": {},
   "source": [
    "### Difference Cost's Smoker vs. Non-Smoker"
   ]
  },
  {
   "cell_type": "code",
   "execution_count": 7,
   "metadata": {},
   "outputs": [
    {
     "name": "stdout",
     "output_type": "stream",
     "text": [
      "      age     sex     bmi  children smoker     region      charges\n",
      "0      19  female  27.900         0    yes  southwest  16884.92400\n",
      "11     62  female  26.290         0    yes  southeast  27808.72510\n",
      "14     27    male  42.130         0    yes  southeast  39611.75770\n",
      "19     30    male  35.300         0    yes  southwest  36837.46700\n",
      "23     34  female  31.920         1    yes  northeast  37701.87680\n",
      "...   ...     ...     ...       ...    ...        ...          ...\n",
      "1313   19  female  34.700         2    yes  southwest  36397.57600\n",
      "1314   30  female  23.655         3    yes  northwest  18765.87545\n",
      "1321   62    male  26.695         0    yes  northeast  28101.33305\n",
      "1323   42  female  40.370         2    yes  southeast  43896.37630\n",
      "1337   61  female  29.070         0    yes  northwest  29141.36030\n",
      "\n",
      "[274 rows x 7 columns]\n",
      "      age     sex     bmi  children smoker     region      charges\n",
      "1      18    male  33.770         1     no  southeast   1725.55230\n",
      "2      28    male  33.000         3     no  southeast   4449.46200\n",
      "3      33    male  22.705         0     no  northwest  21984.47061\n",
      "4      32    male  28.880         0     no  northwest   3866.85520\n",
      "5      31  female  25.740         0     no  southeast   3756.62160\n",
      "...   ...     ...     ...       ...    ...        ...          ...\n",
      "1332   52  female  44.700         3     no  southwest  11411.68500\n",
      "1333   50    male  30.970         3     no  northwest  10600.54830\n",
      "1334   18  female  31.920         0     no  northeast   2205.98080\n",
      "1335   18  female  36.850         0     no  southeast   1629.83350\n",
      "1336   21  female  25.800         0     no  southwest   2007.94500\n",
      "\n",
      "[1064 rows x 7 columns]\n"
     ]
    }
   ],
   "source": [
    "smoker = data[data['smoker'] == 'yes']\n",
    "print(smoker)\n",
    "\n",
    "non_smoker = data[data['smoker'] == 'no']\n",
    "print(non_smoker)"
   ]
  },
  {
   "cell_type": "code",
   "execution_count": 8,
   "metadata": {},
   "outputs": [
    {
     "name": "stdout",
     "output_type": "stream",
     "text": [
      "Average Smoker Cost: 32050.23 dollars\n"
     ]
    }
   ],
   "source": [
    "smoker_cost = smoker['charges']\n",
    "\n",
    "def avg_smoker_cost(data):\n",
    "    counter = data.sum()\n",
    "    length = len(data)\n",
    "    return round(counter/length, 2)\n",
    "\n",
    "average_smoker_cost = avg_smoker_cost(smoker_cost)\n",
    "print(\"Average Smoker Cost: \" + str(average_smoker_cost) + \" dollars\")"
   ]
  },
  {
   "cell_type": "code",
   "execution_count": 9,
   "metadata": {},
   "outputs": [
    {
     "name": "stdout",
     "output_type": "stream",
     "text": [
      "Average No-Smoker Cost: 8434.27 dollars\n"
     ]
    }
   ],
   "source": [
    "non_smoker_cost = non_smoker['charges']\n",
    "\n",
    "def avg_nosmoke_cost(data):\n",
    "    counter = data.sum()\n",
    "    length = len(data)\n",
    "    return round(counter/length, 2)\n",
    "\n",
    "average_nosmoke_cost = avg_nosmoke_cost(non_smoker_cost)\n",
    "print(\"Average No-Smoker Cost: \" + str(average_nosmoke_cost) + \" dollars\")"
   ]
  },
  {
   "cell_type": "code",
   "execution_count": 10,
   "metadata": {},
   "outputs": [
    {
     "name": "stdout",
     "output_type": "stream",
     "text": [
      "An average smoker pays: 23615.96 dollars more in insurance costs.\n"
     ]
    }
   ],
   "source": [
    "difference = 32050.23 - 8434.27\n",
    "print(\"An average smoker pays: \" + str(difference) + \" dollars more in insurance costs.\")"
   ]
  },
  {
   "cell_type": "markdown",
   "metadata": {},
   "source": [
    "## Summary"
   ]
  },
  {
   "cell_type": "markdown",
   "metadata": {},
   "source": [
    "The average person in our data is about 39.21 years old.\n",
    "\n",
    "The average person with at least one child is 39.78 years old. It's only 0.57 years older than persons without children. I, personally, thought, that the average age of a person with a child would be higher.\n",
    "\n",
    "In our data we have 4 regions: Northwest, Northeast, Southwest, Southeast\n",
    "\n",
    "The Southeast region has with 364 people the majority in our data.\n",
    "\n",
    "In our data we have 274 smokers, and 1'064 non-smokers. An average smoker pays about 32'050.23 dollars for his/her insurance. A non-smoker pays an average of 8'434.27 dollars. That's a difference of 23'615.96 dollars!!!"
   ]
  },
  {
   "cell_type": "code",
   "execution_count": null,
   "metadata": {},
   "outputs": [],
   "source": []
  }
 ],
 "metadata": {
  "kernelspec": {
   "display_name": "Python 3",
   "language": "python",
   "name": "python3"
  },
  "language_info": {
   "codemirror_mode": {
    "name": "ipython",
    "version": 3
   },
   "file_extension": ".py",
   "mimetype": "text/x-python",
   "name": "python",
   "nbconvert_exporter": "python",
   "pygments_lexer": "ipython3",
   "version": "3.8.5"
  }
 },
 "nbformat": 4,
 "nbformat_minor": 4
}
